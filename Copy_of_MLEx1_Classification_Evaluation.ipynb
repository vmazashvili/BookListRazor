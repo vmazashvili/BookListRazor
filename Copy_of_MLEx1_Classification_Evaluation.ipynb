{
  "nbformat": 4,
  "nbformat_minor": 0,
  "metadata": {
    "colab": {
      "name": "Copy of MLEx1.Classification_Evaluation",
      "provenance": [],
      "collapsed_sections": [],
      "toc_visible": true,
      "include_colab_link": true
    },
    "kernelspec": {
      "name": "python3",
      "display_name": "Python 3"
    },
    "accelerator": "GPU"
  },
  "cells": [
    {
      "cell_type": "markdown",
      "metadata": {
        "id": "view-in-github",
        "colab_type": "text"
      },
      "source": [
        "<a href=\"https://colab.research.google.com/github/vmazashvili/BookListRazor/blob/master/Copy_of_MLEx1_Classification_Evaluation.ipynb\" target=\"_parent\"><img src=\"https://colab.research.google.com/assets/colab-badge.svg\" alt=\"Open In Colab\"/></a>"
      ]
    },
    {
      "cell_type": "markdown",
      "metadata": {
        "id": "Z3GYzNWONtju"
      },
      "source": [
        "# Machine Learning - Exercise 1\n",
        "# Classification Evaluation\n",
        "\n",
        "This exercise illustrates examples of evaluation of solutions of classification problems."
      ]
    },
    {
      "cell_type": "markdown",
      "metadata": {
        "id": "eDEJU1RwoIlv"
      },
      "source": [
        "##Import \n",
        "\n",
        "Import libraries that contains the implementations of the functions used in the rest of the program.\n",
        "\n"
      ]
    },
    {
      "cell_type": "code",
      "metadata": {
        "id": "BSKuPnIXNoq2",
        "colab": {
          "base_uri": "https://localhost:8080/"
        },
        "outputId": "2cac103e-e580-486f-9091-b43935bc63b4"
      },
      "source": [
        "import random\n",
        "import numpy as np\n",
        "import sklearn.metrics \n",
        "from sklearn import datasets\n",
        "from sklearn.model_selection import train_test_split, cross_val_score, ShuffleSplit, GridSearchCV\n",
        "from sklearn import svm\n",
        "from sklearn import tree\n",
        "from sklearn.naive_bayes import GaussianNB\n",
        "from sklearn.linear_model import LogisticRegression\n",
        "from sklearn.metrics import classification_report, confusion_matrix\n",
        "from sklearn.utils.multiclass import unique_labels\n",
        "import matplotlib.pyplot as plt\n",
        "\n",
        "def plot_confusion_matrix(y_true, y_pred, classes,\n",
        "                          normalize=False,\n",
        "                          title=None,\n",
        "                          cmap=plt.cm.Blues):\n",
        "    \"\"\"\n",
        "    This function prints and plots the confusion matrix.\n",
        "    Normalization can be applied by setting `normalize=True`.\n",
        "    \"\"\"\n",
        "    if not title:\n",
        "        if normalize:\n",
        "            title = 'Normalized confusion matrix'\n",
        "        else:\n",
        "            title = 'Confusion matrix, without normalization'\n",
        "\n",
        "    # Compute confusion matrix\n",
        "    cm = confusion_matrix(y_true, y_pred)\n",
        "    # Only use the labels that appear in the data\n",
        "    classes = classes[unique_labels(y_true, y_pred)]\n",
        "    if normalize:\n",
        "        cm = cm.astype('float') / cm.sum(axis=1)[:, np.newaxis]\n",
        "        #print(\"Normalized confusion matrix\")\n",
        "    else:\n",
        "        pass\n",
        "        #print('Confusion matrix, without normalization')\n",
        "\n",
        "    #print(cm)\n",
        "\n",
        "    fig, ax = plt.subplots()\n",
        "    im = ax.imshow(cm, interpolation='nearest', cmap=cmap)\n",
        "    ax.figure.colorbar(im, ax=ax)\n",
        "    # We want to show all ticks...\n",
        "    ax.set(xticks=np.arange(cm.shape[1]),\n",
        "           yticks=np.arange(cm.shape[0]),\n",
        "           # ... and label them with the respective list entries\n",
        "           xticklabels=classes, yticklabels=classes,\n",
        "           title=title,\n",
        "           ylabel='True label',\n",
        "           xlabel='Predicted label')\n",
        "\n",
        "    ax.set_ylim(len(classes)-0.5, -0.5)\n",
        "\n",
        "    # Rotate the tick labels and set their alignment.\n",
        "    plt.setp(ax.get_xticklabels(), rotation=45, ha=\"right\",\n",
        "             rotation_mode=\"anchor\")\n",
        "\n",
        "    # Loop over data dimensions and create text annotations.\n",
        "    fmt = '.2f' if normalize else 'd'\n",
        "    thresh = cm.max() / 2.\n",
        "    for i in range(cm.shape[0]):\n",
        "        for j in range(cm.shape[1]):\n",
        "            ax.text(j, i, format(cm[i, j], fmt),\n",
        "                    ha=\"center\", va=\"center\",\n",
        "                    color=\"white\" if cm[i, j] > thresh else \"black\")\n",
        "    fig.tight_layout()\n",
        "    return ax\n",
        "\n",
        "print(\"Libraries imported.\")"
      ],
      "execution_count": null,
      "outputs": [
        {
          "output_type": "stream",
          "name": "stdout",
          "text": [
            "Libraries imported.\n"
          ]
        }
      ]
    },
    {
      "cell_type": "markdown",
      "metadata": {
        "id": "KaeLRpWIfO1m"
      },
      "source": [
        "## Load data\n",
        "\n",
        "Load training data.\n",
        "\n",
        "Choose one of the datasets described in the next subsections.\n",
        "\n",
        "More details on these datasets are available in https://scikit-learn.org/stable/datasets/index.html\n"
      ]
    },
    {
      "cell_type": "markdown",
      "metadata": {
        "id": "w8_6LSAHa6Vb"
      },
      "source": [
        "### IRIS dataset"
      ]
    },
    {
      "cell_type": "code",
      "metadata": {
        "id": "0nHa8mpWbAEp"
      },
      "source": [
        "DB = datasets.load_iris()\n",
        "dataset_name = \"Iris\"\n",
        "class_names = np.array([str(c) for c in DB.target_names])\n",
        "X_all = DB.data\n",
        "y_all = DB.target"
      ],
      "execution_count": null,
      "outputs": []
    },
    {
      "cell_type": "markdown",
      "metadata": {
        "id": "rVA8XiMvbDBc"
      },
      "source": [
        "### Wine dataset"
      ]
    },
    {
      "cell_type": "code",
      "metadata": {
        "id": "JkazgPcGbJhT"
      },
      "source": [
        "DB = datasets.load_wine()\n",
        "dataset_name = \"Wines\"\n",
        "class_names = np.array([str(c) for c in DB.target_names])\n",
        "X_all = DB.data\n",
        "y_all = DB.target"
      ],
      "execution_count": null,
      "outputs": []
    },
    {
      "cell_type": "markdown",
      "metadata": {
        "id": "6jVsMFO3bNji"
      },
      "source": [
        "###Digits dataset"
      ]
    },
    {
      "cell_type": "code",
      "metadata": {
        "id": "Virn0LFUbSVn"
      },
      "source": [
        "DB = datasets.load_digits()\n",
        "dataset_name = \"Digits\"\n",
        "class_names = np.array([str(c) for c in DB.target_names])\n",
        "X_all = DB.data\n",
        "y_all = DB.target"
      ],
      "execution_count": null,
      "outputs": []
    },
    {
      "cell_type": "markdown",
      "metadata": {
        "id": "QvbEt6KwfSVm"
      },
      "source": [
        "###Unbalanced Digits dataset\n",
        "\n",
        "Adapted from the Digits dataset with digit 0 mapped to class '0' and all other digits mapped to class '1'"
      ]
    },
    {
      "cell_type": "code",
      "metadata": {
        "id": "c4TpTJFTcOYM",
        "colab": {
          "base_uri": "https://localhost:8080/",
          "height": 34
        },
        "outputId": "6eaf5c89-13b8-4e58-9e30-fc3bd81dab9a"
      },
      "source": [
        "# Binary Digits unbalanced\n",
        "DB = datasets.load_digits()\n",
        "dataset_name = \"Digits_01_unbalanced\"\n",
        "class_names = np.array([\"0\",\"1\"])\n",
        "X_all = DB.data\n",
        "y_all = DB.target\n",
        "cont = 0\n",
        "for i in range(0,len(y_all)):\n",
        "  if y_all[i] != 0:\n",
        "    y_all[i] = 1\n",
        "    cont += 1\n",
        "print(\"Percentage of non-zero digits: %f\" %(cont/len(y_all)))"
      ],
      "execution_count": null,
      "outputs": [
        {
          "output_type": "stream",
          "text": [
            "Percentage of non-zero digits: 0.900946\n"
          ],
          "name": "stdout"
        }
      ]
    },
    {
      "cell_type": "markdown",
      "metadata": {
        "id": "w-FjcBe_bVSm"
      },
      "source": [
        "###Summary of the dataset\n",
        "\n",
        "Print some information about the dataset.\n",
        "\n",
        "Data structures\n",
        "\n",
        "    Input X: array ( n x m )\n",
        "    Output Y: array ( n x 1 )"
      ]
    },
    {
      "cell_type": "code",
      "metadata": {
        "id": "7kECuF5cgxxW",
        "colab": {
          "base_uri": "https://localhost:8080/"
        },
        "outputId": "208f8b62-9b5f-4fbd-c9d9-a5291be032ad"
      },
      "source": [
        "print(\"Dataset: %s\" %(dataset_name))\n",
        "print(\"Input shape: %s\" %str(X_all.shape))\n",
        "print(\"Output shape: %s\" %str(y_all.shape))\n",
        "print(\"Number of attributes/features: %d\" %(X_all.shape[1]))\n",
        "print(\"Number of classes: %d %s\" %(len(class_names), str(class_names)))\n",
        "print(\"Number of samples: %d\" %(X_all.shape[0]))"
      ],
      "execution_count": null,
      "outputs": [
        {
          "output_type": "stream",
          "name": "stdout",
          "text": [
            "Dataset: Iris\n",
            "Input shape: (150, 4)\n",
            "Output shape: (150,)\n",
            "Number of attributes/features: 4\n",
            "Number of classes: 3 ['setosa' 'versicolor' 'virginica']\n",
            "Number of samples: 150\n"
          ]
        }
      ]
    },
    {
      "cell_type": "markdown",
      "metadata": {
        "id": "aJrwXXvsrEHn"
      },
      "source": [
        "### Show an example\n",
        "\n",
        "Display a random sample."
      ]
    },
    {
      "cell_type": "code",
      "metadata": {
        "id": "-m2VMd9YrSBS",
        "colab": {
          "base_uri": "https://localhost:8080/"
        },
        "outputId": "7ab780eb-76d6-487e-bf98-d66b9ce714a5"
      },
      "source": [
        "id = random.randrange(0,X_all.shape[0])\n",
        "\n",
        "print(\"x%d = %r\" %(id,X_all[id]))\n",
        "print(\"y%d = %r ['%s']\" %(id,y_all[id],class_names[y_all[id]]))"
      ],
      "execution_count": null,
      "outputs": [
        {
          "output_type": "stream",
          "name": "stdout",
          "text": [
            "x34 = array([4.9, 3.1, 1.5, 0.2])\n",
            "y34 = 0 ['setosa']\n"
          ]
        }
      ]
    },
    {
      "cell_type": "markdown",
      "metadata": {
        "id": "eJ2bbJe8txnH"
      },
      "source": [
        "##Split data\n",
        "\n",
        "Split the data set in training set `X_train`, `y_train` and test set `X_test`, `y_test`, using `test_size` to denote percentage of samples in the test set.\n",
        "\n",
        "Note:\n",
        "`random_state` parameter is used as random seed. Change this value to generate a different split.\n",
        "\n",
        "IMPORTANT: solution will depend on this data split.\n"
      ]
    },
    {
      "cell_type": "code",
      "metadata": {
        "id": "IWKwFR-It1-D",
        "colab": {
          "base_uri": "https://localhost:8080/"
        },
        "outputId": "ab634f55-2f64-497e-cbbb-fbc6d0a0030f"
      },
      "source": [
        "X_train, X_test, y_train, y_test = train_test_split(X_all, y_all, test_size=0.333, \n",
        "                                                    random_state=117)\n",
        "\n",
        "print(\"Size of training set: %d\" %X_train.shape[0])\n",
        "print(\"Size of test set: %d\" %X_test.shape[0])\n",
        "\n",
        "print('First training sample')\n",
        "id = 0\n",
        "print(\"    x_train_%d = %r\" %(id,X_train[id]))\n",
        "print(\"    y_train_%d = %r ['%s']\" %(id,y_train[id],class_names[y_train[id]]))\n",
        "\n",
        "print('First test sample')\n",
        "id = 0\n",
        "print(\"    x_test_%d = %r\" %(id,X_test[id]))\n",
        "print(\"    y_test_%d = %r ['%s']\" %(id,y_test[id],class_names[y_test[id]]))\n"
      ],
      "execution_count": null,
      "outputs": [
        {
          "output_type": "stream",
          "name": "stdout",
          "text": [
            "Size of training set: 100\n",
            "Size of test set: 50\n",
            "First training sample\n",
            "    x_train_0 = array([6.7, 3.1, 4.7, 1.5])\n",
            "    y_train_0 = 1 ['versicolor']\n",
            "First test sample\n",
            "    x_test_0 = array([6.2, 2.8, 4.8, 1.8])\n",
            "    y_test_0 = 2 ['virginica']\n"
          ]
        }
      ]
    },
    {
      "cell_type": "markdown",
      "metadata": {
        "id": "R6DMvR8TzJiK"
      },
      "source": [
        "##Create a Model \n",
        "\n",
        "Define the model that will be used for learning.\n",
        "\n",
        "Create an instance of a class implementing a classification method.\n",
        "\n"
      ]
    },
    {
      "cell_type": "markdown",
      "metadata": {
        "id": "6wF3ZBlifcdK"
      },
      "source": [
        "**Decision Trees**\n",
        "\n",
        "https://scikit-learn.org/stable/modules/generated/sklearn.tree.DecisionTreeClassifier.html#sklearn.tree.DecisionTreeClassifier"
      ]
    },
    {
      "cell_type": "code",
      "metadata": {
        "id": "FQekMBE3fhWm"
      },
      "source": [
        "model = tree.DecisionTreeClassifier()"
      ],
      "execution_count": null,
      "outputs": []
    },
    {
      "cell_type": "markdown",
      "metadata": {
        "id": "y7dPHeFNH_mI"
      },
      "source": [
        "**Support Vector Machines**\n",
        "\n",
        "https://scikit-learn.org/stable/modules/generated/sklearn.svm.SVC.html?highlight=svm%20svc#sklearn.svm.SVC"
      ]
    },
    {
      "cell_type": "code",
      "metadata": {
        "id": "FDioTwgArEH7"
      },
      "source": [
        "model = svm.SVC(kernel='linear', C=1)\n"
      ],
      "execution_count": null,
      "outputs": []
    },
    {
      "cell_type": "markdown",
      "metadata": {
        "id": "T9EuWXAhGxw-"
      },
      "source": [
        "Probabilistic generative model \n",
        "\n",
        "**Gaussian Naive Bayes**\n",
        "\n",
        "https://scikit-learn.org/stable/modules/generated/sklearn.naive_bayes.GaussianNB.html?highlight=gaussiannb#sklearn.naive_bayes.GaussianNB\n"
      ]
    },
    {
      "cell_type": "code",
      "metadata": {
        "id": "Ul0R20-HGPjD"
      },
      "source": [
        "model = GaussianNB()\n"
      ],
      "execution_count": null,
      "outputs": []
    },
    {
      "cell_type": "markdown",
      "metadata": {
        "id": "21sijhYOHa0q"
      },
      "source": [
        "Probabilistic discriminative model\n",
        "\n",
        "**Logistic regression**\n",
        "\n",
        "https://scikit-learn.org/stable/modules/generated/sklearn.linear_model.LogisticRegression.html?highlight=logisticregression#sklearn.linear_model.LogisticRegression\n"
      ]
    },
    {
      "cell_type": "code",
      "metadata": {
        "id": "cFR5WkyKHzB4"
      },
      "source": [
        "model = LogisticRegression()"
      ],
      "execution_count": null,
      "outputs": []
    },
    {
      "cell_type": "markdown",
      "metadata": {
        "id": "PmorfnRhHaw8"
      },
      "source": [
        "## Fit the model\n",
        "\n",
        "Finding a solution for this model given the data set.\n",
        "The solution is stored in the model object.\n"
      ]
    },
    {
      "cell_type": "code",
      "metadata": {
        "id": "vaBApsjDHxrY",
        "colab": {
          "base_uri": "https://localhost:8080/"
        },
        "outputId": "6ecfa55a-9a20-4121-d7cd-044462795b0c"
      },
      "source": [
        "model.fit(X_train, y_train)"
      ],
      "execution_count": null,
      "outputs": [
        {
          "output_type": "execute_result",
          "data": {
            "text/plain": [
              "SVC(C=1, break_ties=False, cache_size=200, class_weight=None, coef0=0.0,\n",
              "    decision_function_shape='ovr', degree=3, gamma='scale', kernel='linear',\n",
              "    max_iter=-1, probability=False, random_state=None, shrinking=True,\n",
              "    tol=0.001, verbose=False)"
            ]
          },
          "metadata": {},
          "execution_count": 7
        }
      ]
    },
    {
      "cell_type": "markdown",
      "metadata": {
        "id": "MEiAh78A24DZ"
      },
      "source": [
        "##Predict on test set\n",
        "\n",
        "Use test set for prediction."
      ]
    },
    {
      "cell_type": "code",
      "metadata": {
        "id": "ZsEXCZ0A20C8"
      },
      "source": [
        "y_pred = model.predict(X_test)"
      ],
      "execution_count": null,
      "outputs": []
    },
    {
      "cell_type": "markdown",
      "metadata": {
        "id": "825hsaiDgj2U"
      },
      "source": [
        "Use this statement to generate a prediction vector of all values '1' useful to test performance with the Unblanced Digits dataset.\n",
        "\n"
      ]
    },
    {
      "cell_type": "code",
      "metadata": {
        "id": "M8ogH5F_hDO9"
      },
      "source": [
        "# Result of model that predicts only 1 (for unblanced digits)\n",
        "y_pred = np.ones(len(X_test))"
      ],
      "execution_count": null,
      "outputs": []
    },
    {
      "cell_type": "markdown",
      "metadata": {
        "id": "LfDeJb0Juofu"
      },
      "source": [
        "##Evaluate the Model\n",
        "\n",
        "Evaluation of a specific solution on the test set, comparing predicted values `y_pred` with test values `y_test`."
      ]
    },
    {
      "cell_type": "markdown",
      "metadata": {
        "id": "NKD7632rv-xZ"
      },
      "source": [
        "### Accuracy"
      ]
    },
    {
      "cell_type": "code",
      "metadata": {
        "id": "P0N3cUSazRcJ",
        "colab": {
          "base_uri": "https://localhost:8080/"
        },
        "outputId": "d261a3d3-1bce-4b5b-bacc-5b0793f85e27"
      },
      "source": [
        "acc = model.score(X_test, y_test)    \n",
        "print(\"Accuracy %.3f\" %acc)"
      ],
      "execution_count": null,
      "outputs": [
        {
          "output_type": "stream",
          "name": "stdout",
          "text": [
            "Accuracy 0.960\n"
          ]
        }
      ]
    },
    {
      "cell_type": "markdown",
      "metadata": {
        "id": "4zY5aEGWwMj1"
      },
      "source": [
        "###Precision & Recall\n",
        "\n",
        "Classification report contains more accurate performance information."
      ]
    },
    {
      "cell_type": "code",
      "metadata": {
        "id": "G2bdFwMhwLJN",
        "colab": {
          "base_uri": "https://localhost:8080/"
        },
        "outputId": "06de6eea-9221-416a-921e-5d146dd188ec"
      },
      "source": [
        "print(classification_report(y_test, y_pred, labels=None, target_names=class_names, digits=3))\n"
      ],
      "execution_count": null,
      "outputs": [
        {
          "output_type": "stream",
          "name": "stdout",
          "text": [
            "              precision    recall  f1-score   support\n",
            "\n",
            "      setosa      1.000     1.000     1.000        17\n",
            "  versicolor      0.846     1.000     0.917        11\n",
            "   virginica      1.000     0.909     0.952        22\n",
            "\n",
            "    accuracy                          0.960        50\n",
            "   macro avg      0.949     0.970     0.956        50\n",
            "weighted avg      0.966     0.960     0.961        50\n",
            "\n"
          ]
        }
      ]
    },
    {
      "cell_type": "markdown",
      "metadata": {
        "id": "q1EwWO9m3bGg"
      },
      "source": [
        "### Confusion Matrix\n",
        "\n",
        "Shows the results in a graphical form."
      ]
    },
    {
      "cell_type": "code",
      "metadata": {
        "id": "IGOYxPNzy3vy",
        "colab": {
          "base_uri": "https://localhost:8080/",
          "height": 369
        },
        "outputId": "6a3a2890-7d1d-4986-d426-20b1abbd8cea"
      },
      "source": [
        "cm = confusion_matrix(y_test, y_pred, labels=None, sample_weight=None)\n",
        "print(cm)\n",
        "plot_confusion_matrix(y_test, y_pred, classes=class_names, normalize=False)"
      ],
      "execution_count": null,
      "outputs": [
        {
          "output_type": "stream",
          "name": "stdout",
          "text": [
            "[[17  0  0]\n",
            " [ 0 11  0]\n",
            " [ 0  2 20]]\n"
          ]
        },
        {
          "output_type": "execute_result",
          "data": {
            "text/plain": [
              "<matplotlib.axes._subplots.AxesSubplot at 0x7f9ccd350690>"
            ]
          },
          "metadata": {},
          "execution_count": 11
        },
        {
          "output_type": "display_data",
          "data": {
            "image/png": "[encoded data removed]",
            "text/plain": [
              "<Figure size 432x288 with 2 Axes>"
            ]
          },
          "metadata": {
            "needs_background": "light"
          }
        }
      ]
    },
    {
      "cell_type": "markdown",
      "metadata": {
        "id": "xFH2OgGotJ76"
      },
      "source": [
        "## Evaluate a specific instance of a method\n",
        "\n",
        "Evaluation of a specific method with instantiated hyper-parameters\n",
        "through Cross Validation\n",
        "\n"
      ]
    },
    {
      "cell_type": "code",
      "metadata": {
        "id": "IrxPaAovtV3z",
        "colab": {
          "base_uri": "https://localhost:8080/"
        },
        "outputId": "d22e496a-c053-4114-c0b0-926f70532352"
      },
      "source": [
        "#K-Fold Cross Validation \n",
        "cv = ShuffleSplit(n_splits=5, test_size=0.333, random_state=15)\n",
        "scores = cross_val_score(model, X_all, y_all, cv=cv)\n",
        "print(scores)\n",
        "print(\"Accuracy: %0.3f (+/- %0.2f)\" % (scores.mean(), scores.std() * 2))"
      ],
      "execution_count": null,
      "outputs": [
        {
          "output_type": "stream",
          "name": "stdout",
          "text": [
            "[1.   0.96 0.98 0.98 0.98]\n",
            "Accuracy: 0.980 (+/- 0.03)\n"
          ]
        }
      ]
    },
    {
      "cell_type": "markdown",
      "metadata": {
        "id": "0hVbM8WLrXMh"
      },
      "source": [
        "## Prediction of a new sample"
      ]
    },
    {
      "cell_type": "code",
      "metadata": {
        "id": "rIFijWnPrc2L",
        "colab": {
          "base_uri": "https://localhost:8080/"
        },
        "outputId": "f402cde0-8511-4069-9bbf-04234609999d"
      },
      "source": [
        "if dataset_name == \"Iris\":\n",
        "  xnew = np.array([8.5, 2.6, 9.2, 0.3])\n",
        "elif dataset_name == \"Wines\":\n",
        "  xnew = np.array([12, 2.5, 2.6, 15, 186, 1.5, 9.1,\n",
        "                   0.44, 2.2, 5.6, 2.9, 3.7, 380])\n",
        "elif dataset_name == \"Digits\" or dataset_name == \"Digits_01_unbalanced\":\n",
        "   xnew = np.array([  \n",
        "        0,  0,  8, 13, 18, 13, 11,  1,  0, 10,  9,  4,  6,\n",
        "       16,  3,  0,  0,  0,  0, 10,  1, 13,  0,  0,  0,  0,\n",
        "        0,  7, 14,  2,  0,  0,  0,  0,  0,  7, 13,  1,  0,\n",
        "        0,  0,  0,  0,  0,  8, 13,  1,  0,  0,  0,  0,  0,\n",
        "       13,  6,  7,  1,  0,  0, 14, 12, 13,  1,  0,  0])\n",
        " \n",
        "xnew = xnew.reshape(1,-1)\n",
        " \n",
        "print(\"x_new = %r\" %(xnew))\n",
        "ynew = model.predict(xnew)\n",
        "print(\"y_pred = %d %s\" %(ynew,class_names[ynew]))\n",
        "\n",
        "# only for probabilistic models\n",
        "try:\n",
        "  mconf = np.max(model.predict_proba(xnew))\n",
        "  print(\"Confidence: %.2f\" %(mconf))\n",
        "except:\n",
        "  pass  "
      ],
      "execution_count": null,
      "outputs": [
        {
          "output_type": "stream",
          "name": "stdout",
          "text": [
            "x_new = array([[8.5, 2.6, 9.2, 0.3]])\n",
            "y_pred = 2 ['virginica']\n"
          ]
        }
      ]
    },
    {
      "cell_type": "markdown",
      "metadata": {
        "id": "66VfEN_m6lVJ"
      },
      "source": [
        "##Common Mistake\n",
        "\n",
        "Evaluate solution on data used for training!!!\n"
      ]
    },
    {
      "cell_type": "code",
      "metadata": {
        "id": "R1PgiDeh6j4m",
        "colab": {
          "base_uri": "https://localhost:8080/"
        },
        "outputId": "651dad64-aab2-405b-f155-85f535cc4f04"
      },
      "source": [
        "model.score(X_all,y_all)"
      ],
      "execution_count": null,
      "outputs": [
        {
          "output_type": "execute_result",
          "data": {
            "text/plain": [
              "0.9666666666666667"
            ]
          },
          "metadata": {},
          "execution_count": 17
        }
      ]
    },
    {
      "cell_type": "markdown",
      "metadata": {
        "id": "a-aJYM3JXRyN"
      },
      "source": [
        "## Home Exercises\n",
        "\n",
        "**Question 1**\n",
        "\n",
        "Design an evaluation procedure to assess and compare the different performance of the classifcation models seen above on the Digits dataset\n",
        "\n",
        "**Question 2** \n",
        "\n",
        "Consider the Unbalanced Digits dataset and compare one of the above classification method with the classifier that always returns the most common label in the dataset. Which performance metrics are significant in this comparison?\n",
        "\n",
        "\n",
        "  \n"
      ]
    }
  ]
}